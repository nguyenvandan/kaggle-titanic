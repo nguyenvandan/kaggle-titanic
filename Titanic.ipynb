{
 "cells": [
  {
   "cell_type": "markdown",
   "metadata": {},
   "source": [
    "<br><br><br><br><br><h1 style=\"font-size:2em;color:#2467C0\">Predict survival on the Titanic and get familiar with ML basics</h1><br><br><br>"
   ]
  },
  {
   "cell_type": "code",
   "execution_count": 139,
   "metadata": {},
   "outputs": [],
   "source": [
    "from pyspark.sql import SQLContext\n",
    "from pyspark.sql import DataFrameNaFunctions\n",
    "from pyspark.ml import Pipeline\n",
    "from pyspark.ml.classification import DecisionTreeClassifier\n",
    "from pyspark.ml.feature import Binarizer\n",
    "from pyspark.ml.feature import VectorAssembler, StringIndexer, VectorIndexer\n",
    "import pyspark.sql.functions as F"
   ]
  },
  {
   "cell_type": "code",
   "execution_count": 140,
   "metadata": {},
   "outputs": [
    {
     "data": {
      "text/plain": [
       "['PassengerId',\n",
       " 'Survived',\n",
       " 'Pclass',\n",
       " 'Name',\n",
       " 'Sex',\n",
       " 'Age',\n",
       " 'SibSp',\n",
       " 'Parch',\n",
       " 'Ticket',\n",
       " 'Fare',\n",
       " 'Cabin',\n",
       " 'Embarked']"
      ]
     },
     "execution_count": 140,
     "metadata": {},
     "output_type": "execute_result"
    }
   ],
   "source": [
    "sqlContext = SQLContext(sc)\n",
    "df = sqlContext.read.load('file:///home/vdnguyen/kaggle/kaggle-titanic/data/train.csv', \n",
    "                          format='com.databricks.spark.csv', \n",
    "                          header='true',inferSchema='true')\n",
    "testDF = sqlContext.read.load('file:///home/vdnguyen/kaggle/kaggle-titanic/data/test.csv', \n",
    "                          format='com.databricks.spark.csv', \n",
    "                          header='true',inferSchema='true')\n",
    "resultDF = sqlContext.read.load('file:///home/vdnguyen/kaggle/kaggle-titanic/data/gender_submission.csv', \n",
    "                          format='com.databricks.spark.csv', \n",
    "                          header='true',inferSchema='true')\n",
    "df.columns"
   ]
  },
  {
   "cell_type": "code",
   "execution_count": 141,
   "metadata": {},
   "outputs": [
    {
     "data": {
      "text/plain": [
       "891"
      ]
     },
     "execution_count": 141,
     "metadata": {},
     "output_type": "execute_result"
    }
   ],
   "source": [
    "df.count()"
   ]
  },
  {
   "cell_type": "code",
   "execution_count": 142,
   "metadata": {},
   "outputs": [
    {
     "name": "stdout",
     "output_type": "stream",
     "text": [
      "root\n",
      " |-- PassengerId: integer (nullable = true)\n",
      " |-- Survived: integer (nullable = true)\n",
      " |-- Pclass: integer (nullable = true)\n",
      " |-- Name: string (nullable = true)\n",
      " |-- Sex: string (nullable = true)\n",
      " |-- Age: double (nullable = true)\n",
      " |-- SibSp: integer (nullable = true)\n",
      " |-- Parch: integer (nullable = true)\n",
      " |-- Ticket: string (nullable = true)\n",
      " |-- Fare: double (nullable = true)\n",
      " |-- Cabin: string (nullable = true)\n",
      " |-- Embarked: string (nullable = true)\n",
      "\n"
     ]
    }
   ],
   "source": [
    "df.printSchema()"
   ]
  },
  {
   "cell_type": "code",
   "execution_count": 143,
   "metadata": {},
   "outputs": [
    {
     "name": "stdout",
     "output_type": "stream",
     "text": [
      "root\n",
      " |-- PassengerId: integer (nullable = true)\n",
      " |-- Survived: integer (nullable = true)\n",
      " |-- Pclass: integer (nullable = true)\n",
      " |-- Name: string (nullable = true)\n",
      " |-- Sex: string (nullable = true)\n",
      " |-- Age: double (nullable = true)\n",
      " |-- SibSp: integer (nullable = true)\n",
      " |-- Parch: integer (nullable = true)\n",
      " |-- Ticket: string (nullable = true)\n",
      " |-- Fare: double (nullable = true)\n",
      " |-- Cabin: string (nullable = true)\n",
      " |-- Embarked: string (nullable = true)\n",
      " |-- SexInt: integer (nullable = true)\n",
      "\n",
      "+-----------+--------+------+--------------------+------+----+-----+-----+----------------+-------+-----+--------+------+\n",
      "|PassengerId|Survived|Pclass|                Name|   Sex| Age|SibSp|Parch|          Ticket|   Fare|Cabin|Embarked|SexInt|\n",
      "+-----------+--------+------+--------------------+------+----+-----+-----+----------------+-------+-----+--------+------+\n",
      "|          1|       0|     3|Braund, Mr. Owen ...|  male|22.0|    1|    0|       A/5 21171|   7.25| null|       S|     1|\n",
      "|          2|       1|     1|Cumings, Mrs. Joh...|female|38.0|    1|    0|        PC 17599|71.2833|  C85|       C|     0|\n",
      "|          3|       1|     3|Heikkinen, Miss. ...|female|26.0|    0|    0|STON/O2. 3101282|  7.925| null|       S|     0|\n",
      "|          4|       1|     1|Futrelle, Mrs. Ja...|female|35.0|    1|    0|          113803|   53.1| C123|       S|     0|\n",
      "|          5|       0|     3|Allen, Mr. Willia...|  male|35.0|    0|    0|          373450|   8.05| null|       S|     1|\n",
      "+-----------+--------+------+--------------------+------+----+-----+-----+----------------+-------+-----+--------+------+\n",
      "only showing top 5 rows\n",
      "\n"
     ]
    }
   ],
   "source": [
    "newDF = df.withColumn('SexInt', (F.instr(df.Sex, 'female') == 0).cast('int'))\n",
    "newTestDF = testDF.withColumn('SexInt', (F.instr(testDF.Sex, 'female') == 0).cast('int'))\n",
    "newDF.printSchema()\n",
    "newDF.show(5)"
   ]
  },
  {
   "cell_type": "code",
   "execution_count": 144,
   "metadata": {},
   "outputs": [
    {
     "data": {
      "text/html": [
       "<div>\n",
       "<style>\n",
       "    .dataframe thead tr:only-child th {\n",
       "        text-align: right;\n",
       "    }\n",
       "\n",
       "    .dataframe thead th {\n",
       "        text-align: left;\n",
       "    }\n",
       "\n",
       "    .dataframe tbody tr th {\n",
       "        vertical-align: top;\n",
       "    }\n",
       "</style>\n",
       "<table border=\"1\" class=\"dataframe\">\n",
       "  <thead>\n",
       "    <tr style=\"text-align: right;\">\n",
       "      <th></th>\n",
       "      <th>0</th>\n",
       "      <th>1</th>\n",
       "      <th>2</th>\n",
       "      <th>3</th>\n",
       "      <th>4</th>\n",
       "    </tr>\n",
       "  </thead>\n",
       "  <tbody>\n",
       "    <tr>\n",
       "      <th>summary</th>\n",
       "      <td>count</td>\n",
       "      <td>mean</td>\n",
       "      <td>stddev</td>\n",
       "      <td>min</td>\n",
       "      <td>max</td>\n",
       "    </tr>\n",
       "    <tr>\n",
       "      <th>PassengerId</th>\n",
       "      <td>891</td>\n",
       "      <td>446.0</td>\n",
       "      <td>257.3538420152301</td>\n",
       "      <td>1</td>\n",
       "      <td>891</td>\n",
       "    </tr>\n",
       "    <tr>\n",
       "      <th>Survived</th>\n",
       "      <td>891</td>\n",
       "      <td>0.3838383838383838</td>\n",
       "      <td>0.48659245426485753</td>\n",
       "      <td>0</td>\n",
       "      <td>1</td>\n",
       "    </tr>\n",
       "    <tr>\n",
       "      <th>Pclass</th>\n",
       "      <td>891</td>\n",
       "      <td>2.308641975308642</td>\n",
       "      <td>0.8360712409770491</td>\n",
       "      <td>1</td>\n",
       "      <td>3</td>\n",
       "    </tr>\n",
       "    <tr>\n",
       "      <th>Name</th>\n",
       "      <td>891</td>\n",
       "      <td>None</td>\n",
       "      <td>None</td>\n",
       "      <td>\"Andersson, Mr. August Edvard (\"\"Wennerstrom\"\")\"</td>\n",
       "      <td>van Melkebeke, Mr. Philemon</td>\n",
       "    </tr>\n",
       "    <tr>\n",
       "      <th>Sex</th>\n",
       "      <td>891</td>\n",
       "      <td>None</td>\n",
       "      <td>None</td>\n",
       "      <td>female</td>\n",
       "      <td>male</td>\n",
       "    </tr>\n",
       "    <tr>\n",
       "      <th>Age</th>\n",
       "      <td>714</td>\n",
       "      <td>29.69911764705882</td>\n",
       "      <td>14.526497332334035</td>\n",
       "      <td>0.42</td>\n",
       "      <td>80.0</td>\n",
       "    </tr>\n",
       "    <tr>\n",
       "      <th>SibSp</th>\n",
       "      <td>891</td>\n",
       "      <td>0.5230078563411896</td>\n",
       "      <td>1.1027434322934315</td>\n",
       "      <td>0</td>\n",
       "      <td>8</td>\n",
       "    </tr>\n",
       "    <tr>\n",
       "      <th>Parch</th>\n",
       "      <td>891</td>\n",
       "      <td>0.38159371492704824</td>\n",
       "      <td>0.8060572211299488</td>\n",
       "      <td>0</td>\n",
       "      <td>6</td>\n",
       "    </tr>\n",
       "    <tr>\n",
       "      <th>Ticket</th>\n",
       "      <td>891</td>\n",
       "      <td>260318.54916792738</td>\n",
       "      <td>471609.26868834975</td>\n",
       "      <td>110152</td>\n",
       "      <td>WE/P 5735</td>\n",
       "    </tr>\n",
       "    <tr>\n",
       "      <th>Fare</th>\n",
       "      <td>891</td>\n",
       "      <td>32.2042079685746</td>\n",
       "      <td>49.69342859718089</td>\n",
       "      <td>0.0</td>\n",
       "      <td>512.3292</td>\n",
       "    </tr>\n",
       "    <tr>\n",
       "      <th>Cabin</th>\n",
       "      <td>204</td>\n",
       "      <td>None</td>\n",
       "      <td>None</td>\n",
       "      <td>A10</td>\n",
       "      <td>T</td>\n",
       "    </tr>\n",
       "    <tr>\n",
       "      <th>Embarked</th>\n",
       "      <td>889</td>\n",
       "      <td>None</td>\n",
       "      <td>None</td>\n",
       "      <td>C</td>\n",
       "      <td>S</td>\n",
       "    </tr>\n",
       "  </tbody>\n",
       "</table>\n",
       "</div>"
      ],
      "text/plain": [
       "                 0                    1                    2  \\\n",
       "summary      count                 mean               stddev   \n",
       "PassengerId    891                446.0    257.3538420152301   \n",
       "Survived       891   0.3838383838383838  0.48659245426485753   \n",
       "Pclass         891    2.308641975308642   0.8360712409770491   \n",
       "Name           891                 None                 None   \n",
       "Sex            891                 None                 None   \n",
       "Age            714    29.69911764705882   14.526497332334035   \n",
       "SibSp          891   0.5230078563411896   1.1027434322934315   \n",
       "Parch          891  0.38159371492704824   0.8060572211299488   \n",
       "Ticket         891   260318.54916792738   471609.26868834975   \n",
       "Fare           891     32.2042079685746    49.69342859718089   \n",
       "Cabin          204                 None                 None   \n",
       "Embarked       889                 None                 None   \n",
       "\n",
       "                                                            3  \\\n",
       "summary                                                   min   \n",
       "PassengerId                                                 1   \n",
       "Survived                                                    0   \n",
       "Pclass                                                      1   \n",
       "Name         \"Andersson, Mr. August Edvard (\"\"Wennerstrom\"\")\"   \n",
       "Sex                                                    female   \n",
       "Age                                                      0.42   \n",
       "SibSp                                                       0   \n",
       "Parch                                                       0   \n",
       "Ticket                                                 110152   \n",
       "Fare                                                      0.0   \n",
       "Cabin                                                     A10   \n",
       "Embarked                                                    C   \n",
       "\n",
       "                                       4  \n",
       "summary                              max  \n",
       "PassengerId                          891  \n",
       "Survived                               1  \n",
       "Pclass                                 3  \n",
       "Name         van Melkebeke, Mr. Philemon  \n",
       "Sex                                 male  \n",
       "Age                                 80.0  \n",
       "SibSp                                  8  \n",
       "Parch                                  6  \n",
       "Ticket                         WE/P 5735  \n",
       "Fare                            512.3292  \n",
       "Cabin                                  T  \n",
       "Embarked                               S  "
      ]
     },
     "execution_count": 144,
     "metadata": {},
     "output_type": "execute_result"
    }
   ],
   "source": [
    "df.describe().toPandas().transpose()"
   ]
  },
  {
   "cell_type": "code",
   "execution_count": 145,
   "metadata": {
    "collapsed": true
   },
   "outputs": [],
   "source": [
    "featureColumns = ['Pclass', 'SexInt', 'Age', 'SibSp', 'Parch', 'Fare']"
   ]
  },
  {
   "cell_type": "code",
   "execution_count": 146,
   "metadata": {},
   "outputs": [
    {
     "data": {
      "text/plain": [
       "(712, 10)"
      ]
     },
     "execution_count": 146,
     "metadata": {},
     "output_type": "execute_result"
    }
   ],
   "source": [
    "newDF = newDF.drop('Cabin', 'Ticket', 'PassengerId')\n",
    "newTestDF = newTestDF.drop('Cabin', 'Ticket')\n",
    "newDF = newDF.na.drop()\n",
    "newTestDF = newTestDF.na.drop()\n",
    "newDF.count(), len(newDF.columns)"
   ]
  },
  {
   "cell_type": "code",
   "execution_count": 147,
   "metadata": {},
   "outputs": [
    {
     "name": "stdout",
     "output_type": "stream",
     "text": [
      "+--------+------+--------------------+------+----+-----+-----+-------+--------+------+--------------------+\n",
      "|Survived|Pclass|                Name|   Sex| Age|SibSp|Parch|   Fare|Embarked|SexInt|            features|\n",
      "+--------+------+--------------------+------+----+-----+-----+-------+--------+------+--------------------+\n",
      "|       0|     3|Braund, Mr. Owen ...|  male|22.0|    1|    0|   7.25|       S|     1|[3.0,1.0,22.0,1.0...|\n",
      "|       1|     1|Cumings, Mrs. Joh...|female|38.0|    1|    0|71.2833|       C|     0|[1.0,0.0,38.0,1.0...|\n",
      "|       1|     3|Heikkinen, Miss. ...|female|26.0|    0|    0|  7.925|       S|     0|[3.0,0.0,26.0,0.0...|\n",
      "|       1|     1|Futrelle, Mrs. Ja...|female|35.0|    1|    0|   53.1|       S|     0|[1.0,0.0,35.0,1.0...|\n",
      "|       0|     3|Allen, Mr. Willia...|  male|35.0|    0|    0|   8.05|       S|     1|[3.0,1.0,35.0,0.0...|\n",
      "+--------+------+--------------------+------+----+-----+-----+-------+--------+------+--------------------+\n",
      "only showing top 5 rows\n",
      "\n",
      "+-----------+------+--------------------+------+----+-----+-----+-------+--------+------+--------------------+\n",
      "|PassengerId|Pclass|                Name|   Sex| Age|SibSp|Parch|   Fare|Embarked|SexInt|            features|\n",
      "+-----------+------+--------------------+------+----+-----+-----+-------+--------+------+--------------------+\n",
      "|        892|     3|    Kelly, Mr. James|  male|34.5|    0|    0| 7.8292|       Q|     1|[3.0,1.0,34.5,0.0...|\n",
      "|        893|     3|Wilkes, Mrs. Jame...|female|47.0|    1|    0|    7.0|       S|     0|[3.0,0.0,47.0,1.0...|\n",
      "|        894|     2|Myles, Mr. Thomas...|  male|62.0|    0|    0| 9.6875|       Q|     1|[2.0,1.0,62.0,0.0...|\n",
      "|        895|     3|    Wirz, Mr. Albert|  male|27.0|    0|    0| 8.6625|       S|     1|[3.0,1.0,27.0,0.0...|\n",
      "|        896|     3|Hirvonen, Mrs. Al...|female|22.0|    1|    1|12.2875|       S|     0|[3.0,0.0,22.0,1.0...|\n",
      "+-----------+------+--------------------+------+----+-----+-----+-------+--------+------+--------------------+\n",
      "only showing top 5 rows\n",
      "\n"
     ]
    }
   ],
   "source": [
    "assembler = VectorAssembler(inputCols=featureColumns, outputCol=\"features\")\n",
    "assembled = assembler.transform(newDF)\n",
    "testAssembled = assembler.transform(newTestDF)\n",
    "assembled.show(5)\n",
    "testAssembled.show(5)"
   ]
  },
  {
   "cell_type": "code",
   "execution_count": 148,
   "metadata": {
    "collapsed": true
   },
   "outputs": [],
   "source": [
    "dt = DecisionTreeClassifier(labelCol=\"Survived\", featuresCol=\"features\", maxDepth=5,minInstancesPerNode=20, impurity=\"gini\")"
   ]
  },
  {
   "cell_type": "code",
   "execution_count": 149,
   "metadata": {
    "collapsed": true
   },
   "outputs": [],
   "source": [
    "pipeline = Pipeline(stages=[dt])\n",
    "model = pipeline.fit(assembled)"
   ]
  },
  {
   "cell_type": "code",
   "execution_count": 150,
   "metadata": {},
   "outputs": [],
   "source": [
    "predictions = model.transform(testAssembled)"
   ]
  },
  {
   "cell_type": "code",
   "execution_count": 151,
   "metadata": {},
   "outputs": [
    {
     "name": "stdout",
     "output_type": "stream",
     "text": [
      "root\n",
      " |-- PassengerId: integer (nullable = true)\n",
      " |-- Pclass: integer (nullable = true)\n",
      " |-- Name: string (nullable = true)\n",
      " |-- Sex: string (nullable = true)\n",
      " |-- Age: double (nullable = true)\n",
      " |-- SibSp: integer (nullable = true)\n",
      " |-- Parch: integer (nullable = true)\n",
      " |-- Fare: double (nullable = true)\n",
      " |-- Embarked: string (nullable = true)\n",
      " |-- SexInt: integer (nullable = true)\n",
      " |-- features: vector (nullable = true)\n",
      " |-- rawPrediction: vector (nullable = true)\n",
      " |-- probability: vector (nullable = true)\n",
      " |-- prediction: double (nullable = true)\n",
      "\n"
     ]
    }
   ],
   "source": [
    "predictions.printSchema()"
   ]
  },
  {
   "cell_type": "code",
   "execution_count": 153,
   "metadata": {},
   "outputs": [],
   "source": [
    "extractedPredictions = predictions.select(\"PassengerId\", \"prediction\")\n",
    "output = resultDF.join(extractedPredictions,['PassengerId'],\"inner\")\n",
    "output.write.save(path='file:///home/vdnguyen/kaggle/kaggle-titanic/data/result.csv', \n",
    "                          format='com.databricks.spark.csv', \n",
    "                          header='true')"
   ]
  }
 ],
 "metadata": {
  "kernelspec": {
   "display_name": "titanic_3",
   "language": "python",
   "name": "titanic"
  },
  "language_info": {
   "codemirror_mode": {
    "name": "ipython",
    "version": 3
   },
   "file_extension": ".py",
   "mimetype": "text/x-python",
   "name": "python",
   "nbconvert_exporter": "python",
   "pygments_lexer": "ipython3",
   "version": "3.6.1"
  }
 },
 "nbformat": 4,
 "nbformat_minor": 2
}
